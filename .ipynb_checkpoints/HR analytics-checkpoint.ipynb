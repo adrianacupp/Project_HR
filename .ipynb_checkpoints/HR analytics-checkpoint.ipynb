{
 "cells": [
  {
   "cell_type": "markdown",
   "id": "a8d53dc8",
   "metadata": {},
   "source": [
    "### Import Libraries"
   ]
  },
  {
   "cell_type": "code",
   "execution_count": null,
   "id": "a6ecf87f",
   "metadata": {},
   "outputs": [],
   "source": [
    "import pandas as pd\n",
    "import numpy as np\n",
    "pd.set_option('display.max_columns', None)"
   ]
  },
  {
   "cell_type": "code",
   "execution_count": null,
   "id": "4b23a7e2",
   "metadata": {},
   "outputs": [],
   "source": [
    "# import data"
   ]
  },
  {
   "cell_type": "code",
   "execution_count": null,
   "id": "c815f1af",
   "metadata": {},
   "outputs": [],
   "source": [
    "info = pd.read_excel(\"data_dictionary.xlsx\")"
   ]
  },
  {
   "cell_type": "code",
   "execution_count": null,
   "id": "a330cfa1",
   "metadata": {},
   "outputs": [],
   "source": [
    "info"
   ]
  },
  {
   "cell_type": "code",
   "execution_count": null,
   "id": "385dbc7b",
   "metadata": {},
   "outputs": [],
   "source": [
    "survey= pd.read_csv(\"employee_survey_data.csv\")\n",
    "survey.columns= survey.columns.str.lower()\n",
    "survey"
   ]
  },
  {
   "cell_type": "code",
   "execution_count": null,
   "id": "7bf33c7e",
   "metadata": {},
   "outputs": [],
   "source": [
    "#check for nan values\n",
    "survey.isnull().values.any()"
   ]
  },
  {
   "cell_type": "code",
   "execution_count": null,
   "id": "ae02755b",
   "metadata": {},
   "outputs": [],
   "source": [
    "display(survey.isnull().sum())"
   ]
  },
  {
   "cell_type": "code",
   "execution_count": null,
   "id": "48bac6a3",
   "metadata": {},
   "outputs": [],
   "source": [
    "general= pd.read_csv('general_data.csv')\n",
    "general\n",
    "general.columns= general.columns.str.lower()\n",
    "general"
   ]
  },
  {
   "cell_type": "code",
   "execution_count": null,
   "id": "8ff1647b",
   "metadata": {},
   "outputs": [],
   "source": [
    "general[\"employeecount\"].unique()"
   ]
  },
  {
   "cell_type": "code",
   "execution_count": null,
   "id": "61c9e230",
   "metadata": {},
   "outputs": [],
   "source": [
    "general[\"over18\"].value_counts()"
   ]
  },
  {
   "cell_type": "code",
   "execution_count": null,
   "id": "a758b9b6",
   "metadata": {},
   "outputs": [],
   "source": [
    "manager= pd.read_csv('manager_survey_data.csv')\n",
    "manager.columns= manager.columns.str.lower()"
   ]
  },
  {
   "cell_type": "code",
   "execution_count": null,
   "id": "7d859949",
   "metadata": {},
   "outputs": [],
   "source": [
    "general[\"over18\"].unique()"
   ]
  },
  {
   "cell_type": "code",
   "execution_count": null,
   "id": "30a91b27",
   "metadata": {},
   "outputs": [],
   "source": [
    "# merge data sets"
   ]
  },
  {
   "cell_type": "code",
   "execution_count": null,
   "id": "a2441ed2",
   "metadata": {},
   "outputs": [],
   "source": [
    "general= pd.merge(general, survey, on = \"employeeid\", how = \"inner\")\n",
    "general"
   ]
  },
  {
   "cell_type": "code",
   "execution_count": null,
   "id": "4777a10a",
   "metadata": {},
   "outputs": [],
   "source": [
    "general= pd.merge(general, manager, on = \"employeeid\", how = \"inner\")"
   ]
  },
  {
   "cell_type": "code",
   "execution_count": null,
   "id": "d780bf83",
   "metadata": {},
   "outputs": [],
   "source": [
    "general"
   ]
  },
  {
   "cell_type": "code",
   "execution_count": null,
   "id": "81400d3d",
   "metadata": {},
   "outputs": [],
   "source": [
    "general.dtypes"
   ]
  },
  {
   "cell_type": "code",
   "execution_count": null,
   "id": "3e4a4e72",
   "metadata": {},
   "outputs": [],
   "source": [
    "general['jobsatisfaction'].unique()"
   ]
  },
  {
   "cell_type": "code",
   "execution_count": null,
   "id": "5f39dcf4",
   "metadata": {},
   "outputs": [],
   "source": [
    "general['totalworkingyears'].unique()"
   ]
  },
  {
   "cell_type": "code",
   "execution_count": null,
   "id": "b8a6ec2e",
   "metadata": {},
   "outputs": [],
   "source": [
    "display(general.isnull().sum())"
   ]
  },
  {
   "cell_type": "markdown",
   "id": "79a61e98",
   "metadata": {},
   "source": [
    "### Data Cleaning"
   ]
  },
  {
   "cell_type": "markdown",
   "id": "64d2f912",
   "metadata": {},
   "source": [
    "#### Replacing null value with 0"
   ]
  },
  {
   "cell_type": "code",
   "execution_count": null,
   "id": "a51eb806",
   "metadata": {},
   "outputs": [],
   "source": [
    "np.where(general['numcompaniesworked'].isnull())[0]"
   ]
  },
  {
   "cell_type": "code",
   "execution_count": null,
   "id": "408ec285",
   "metadata": {},
   "outputs": [],
   "source": [
    "general['numcompaniesworked'] = general['numcompaniesworked'].fillna(value = 0)"
   ]
  },
  {
   "cell_type": "code",
   "execution_count": null,
   "id": "56b89767",
   "metadata": {},
   "outputs": [],
   "source": [
    "general['numcompaniesworked'].isnull().sum()"
   ]
  },
  {
   "cell_type": "code",
   "execution_count": null,
   "id": "d49c0df3",
   "metadata": {},
   "outputs": [],
   "source": [
    "general['numcompaniesworked'].value_counts()"
   ]
  },
  {
   "cell_type": "markdown",
   "id": "04711b3e",
   "metadata": {},
   "source": [
    "#### Replacing null value with mode"
   ]
  },
  {
   "cell_type": "code",
   "execution_count": null,
   "id": "511f81db",
   "metadata": {
    "scrolled": false
   },
   "outputs": [],
   "source": [
    "np.where(general['environmentsatisfaction'].isnull())[0]"
   ]
  },
  {
   "cell_type": "code",
   "execution_count": null,
   "id": "2583fa7f",
   "metadata": {},
   "outputs": [],
   "source": [
    "for column in ['environmentsatisfaction']:\n",
    "    general[column].fillna(general[column].mode()[0], inplace=True)"
   ]
  },
  {
   "cell_type": "code",
   "execution_count": null,
   "id": "2da27147",
   "metadata": {},
   "outputs": [],
   "source": [
    "general['environmentsatisfaction'].isnull().sum()"
   ]
  },
  {
   "cell_type": "markdown",
   "id": "686f789c",
   "metadata": {},
   "source": [
    "#### Replacing null value with mode"
   ]
  },
  {
   "cell_type": "code",
   "execution_count": null,
   "id": "78441fdf",
   "metadata": {},
   "outputs": [],
   "source": [
    "np.where(general['jobsatisfaction'].isnull())[0]"
   ]
  },
  {
   "cell_type": "code",
   "execution_count": null,
   "id": "10d9026c",
   "metadata": {},
   "outputs": [],
   "source": [
    "for column in ['jobsatisfaction']:\n",
    "    general[column].fillna(general[column].mode()[0], inplace=True)"
   ]
  },
  {
   "cell_type": "code",
   "execution_count": null,
   "id": "81199263",
   "metadata": {},
   "outputs": [],
   "source": [
    "general['jobsatisfaction'].isnull().sum()"
   ]
  },
  {
   "cell_type": "markdown",
   "id": "2c7434d1",
   "metadata": {},
   "source": [
    "#### Replacing null value with mode"
   ]
  },
  {
   "cell_type": "code",
   "execution_count": null,
   "id": "337b0589",
   "metadata": {
    "scrolled": true
   },
   "outputs": [],
   "source": [
    "np.where(general['worklifebalance'].isnull())[0]"
   ]
  },
  {
   "cell_type": "code",
   "execution_count": null,
   "id": "d5d75ea1",
   "metadata": {},
   "outputs": [],
   "source": [
    "for column in ['worklifebalance']:\n",
    "    general[column].fillna(general[column].mode()[0], inplace=True)"
   ]
  },
  {
   "cell_type": "code",
   "execution_count": null,
   "id": "0fbce0b0",
   "metadata": {
    "scrolled": true
   },
   "outputs": [],
   "source": [
    "general['worklifebalance'].isnull().sum()"
   ]
  },
  {
   "cell_type": "markdown",
   "id": "2e0b9106",
   "metadata": {},
   "source": [
    "#### Replacing null value with mode totalworkingyears"
   ]
  },
  {
   "cell_type": "code",
   "execution_count": null,
   "id": "cec5c612",
   "metadata": {},
   "outputs": [],
   "source": [
    "for column in ['totalworkingyears']:\n",
    "    general[column].fillna(general[column].mode()[0], inplace=True)"
   ]
  },
  {
   "cell_type": "code",
   "execution_count": null,
   "id": "b284fd54",
   "metadata": {},
   "outputs": [],
   "source": [
    "general.isnull().sum()"
   ]
  },
  {
   "cell_type": "markdown",
   "id": "978150a3",
   "metadata": {},
   "source": [
    "#### Handling Null Value"
   ]
  },
  {
   "cell_type": "code",
   "execution_count": null,
   "id": "f2a8f702",
   "metadata": {},
   "outputs": [],
   "source": [
    "for column in general.columns:\n",
    "    if general[column].dtype == 'float64':\n",
    "        general[column] = general[column].astype('int64')"
   ]
  },
  {
   "cell_type": "code",
   "execution_count": null,
   "id": "96c40768",
   "metadata": {},
   "outputs": [],
   "source": [
    "general.dtypes"
   ]
  },
  {
   "cell_type": "markdown",
   "id": "a26dac8e",
   "metadata": {},
   "source": [
    "#### Dropping not informative columns"
   ]
  },
  {
   "cell_type": "code",
   "execution_count": null,
   "id": "354254c8",
   "metadata": {},
   "outputs": [],
   "source": [
    "general['over18'].value_counts()"
   ]
  },
  {
   "cell_type": "code",
   "execution_count": null,
   "id": "08510b18",
   "metadata": {
    "scrolled": true
   },
   "outputs": [],
   "source": [
    "general['employeecount'].value_counts()"
   ]
  },
  {
   "cell_type": "code",
   "execution_count": null,
   "id": "25436441",
   "metadata": {},
   "outputs": [],
   "source": [
    "general['standardhours'].value_counts()"
   ]
  },
  {
   "cell_type": "code",
   "execution_count": null,
   "id": "5abeee3b",
   "metadata": {},
   "outputs": [],
   "source": [
    "general = general.drop(['over18','employeecount', 'standardhours' ], axis = 1).reset_index(drop = True)\n"
   ]
  },
  {
   "cell_type": "code",
   "execution_count": null,
   "id": "03a8018a",
   "metadata": {},
   "outputs": [],
   "source": [
    "general"
   ]
  },
  {
   "cell_type": "markdown",
   "id": "b9c3315e",
   "metadata": {},
   "source": [
    "### Transforming dt Time"
   ]
  },
  {
   "cell_type": "code",
   "execution_count": null,
   "id": "14a180c7",
   "metadata": {},
   "outputs": [],
   "source": [
    "in_time= pd.read_csv('in_time.csv')\n",
    "in_time.head()"
   ]
  },
  {
   "cell_type": "code",
   "execution_count": null,
   "id": "27910dc1",
   "metadata": {},
   "outputs": [],
   "source": [
    "out_time = pd.read_csv('out_time.csv')\n",
    "out_time.head()"
   ]
  },
  {
   "cell_type": "code",
   "execution_count": null,
   "id": "f292d901",
   "metadata": {},
   "outputs": [],
   "source": [
    "## Concat time data sets"
   ]
  },
  {
   "cell_type": "code",
   "execution_count": null,
   "id": "d672902a",
   "metadata": {},
   "outputs": [],
   "source": [
    "total_time= in_time.append(out_time)\n",
    "total_time"
   ]
  },
  {
   "cell_type": "code",
   "execution_count": null,
   "id": "6453ab64",
   "metadata": {},
   "outputs": [],
   "source": [
    "# remove 0 values (0 values are days where the office was closed)\n"
   ]
  },
  {
   "cell_type": "code",
   "execution_count": null,
   "id": "502d03a8",
   "metadata": {},
   "outputs": [],
   "source": [
    "total_time = total_time.dropna(axis=1, how='all')"
   ]
  },
  {
   "cell_type": "code",
   "execution_count": null,
   "id": "c4d44e17",
   "metadata": {},
   "outputs": [],
   "source": [
    "total_time"
   ]
  },
  {
   "cell_type": "code",
   "execution_count": null,
   "id": "e99aa297",
   "metadata": {},
   "outputs": [],
   "source": [
    "# replace individual days that have NaN with 0 ( for future calculations)"
   ]
  },
  {
   "cell_type": "code",
   "execution_count": null,
   "id": "0754929f",
   "metadata": {},
   "outputs": [],
   "source": [
    "total_time.fillna(0, inplace= True)\n",
    "total_time"
   ]
  },
  {
   "cell_type": "code",
   "execution_count": null,
   "id": "b6090650",
   "metadata": {},
   "outputs": [],
   "source": [
    "## Convert to datatime format"
   ]
  },
  {
   "cell_type": "code",
   "execution_count": null,
   "id": "3ac7e0a9",
   "metadata": {},
   "outputs": [],
   "source": [
    "total_time.iloc[:,1:]= total_time.iloc[:,1:].apply(pd.to_datetime, errors='coerce') "
   ]
  },
  {
   "cell_type": "code",
   "execution_count": null,
   "id": "2a3a1f4e",
   "metadata": {},
   "outputs": [],
   "source": [
    "total_time"
   ]
  },
  {
   "cell_type": "code",
   "execution_count": null,
   "id": "349b72db",
   "metadata": {},
   "outputs": [],
   "source": [
    "total_time = total_time.diff(periods=4410)"
   ]
  },
  {
   "cell_type": "code",
   "execution_count": null,
   "id": "12b8d529",
   "metadata": {},
   "outputs": [],
   "source": [
    "total_time = total_time.iloc[4410:]"
   ]
  },
  {
   "cell_type": "code",
   "execution_count": null,
   "id": "7f181753",
   "metadata": {},
   "outputs": [],
   "source": [
    "total_time"
   ]
  },
  {
   "cell_type": "code",
   "execution_count": null,
   "id": "c5498fb5",
   "metadata": {},
   "outputs": [],
   "source": [
    "total_time.reset_index(inplace=True)"
   ]
  },
  {
   "cell_type": "code",
   "execution_count": null,
   "id": "bf5842b2",
   "metadata": {},
   "outputs": [],
   "source": [
    "total_time"
   ]
  },
  {
   "cell_type": "code",
   "execution_count": null,
   "id": "28e622bf",
   "metadata": {},
   "outputs": [],
   "source": [
    "total_time.drop(columns=['index','Unnamed: 0', ''],axis=1,inplace=True)"
   ]
  },
  {
   "cell_type": "code",
   "execution_count": null,
   "id": "8a99b216",
   "metadata": {},
   "outputs": [],
   "source": [
    "total_time.head()"
   ]
  },
  {
   "cell_type": "code",
   "execution_count": null,
   "id": "86d7e4b6",
   "metadata": {},
   "outputs": [],
   "source": [
    "total_time['mean_time'] = total_time.mean(axis=1)"
   ]
  },
  {
   "cell_type": "code",
   "execution_count": null,
   "id": "d96c7eb6",
   "metadata": {},
   "outputs": [],
   "source": [
    "total_time"
   ]
  },
  {
   "cell_type": "code",
   "execution_count": null,
   "id": "22f19c77",
   "metadata": {},
   "outputs": [],
   "source": [
    "# convert mean time into hours\n",
    "total_time.mean_time = total_time.mean_time.apply(lambda x : int(str(x).split(' ')[2].split(':')[0]) + int(str(x).split(' ')[2].split(':')[1])/60 + float(str(x).split(' ')[2].split(':')[2])/3600)\n",
    "total_time.index = range(1,len(total_time)+1)"
   ]
  },
  {
   "cell_type": "code",
   "execution_count": null,
   "id": "a6dc2d2e",
   "metadata": {},
   "outputs": [],
   "source": [
    "total_time.reset_index(inplace=True)"
   ]
  },
  {
   "cell_type": "code",
   "execution_count": null,
   "id": "dbe92946",
   "metadata": {
    "scrolled": true
   },
   "outputs": [],
   "source": [
    "total_time"
   ]
  },
  {
   "cell_type": "code",
   "execution_count": null,
   "id": "828560de",
   "metadata": {},
   "outputs": [],
   "source": [
    "total_time.index = range(1,len(total_time)+1)"
   ]
  },
  {
   "cell_type": "code",
   "execution_count": null,
   "id": "503b8c0e",
   "metadata": {},
   "outputs": [],
   "source": [
    "# Rename index as emID to add the general data set\n",
    "total_time = total_time.rename(columns = {'index' : 'employeeid'})"
   ]
  },
  {
   "cell_type": "code",
   "execution_count": null,
   "id": "f57f55a6",
   "metadata": {},
   "outputs": [],
   "source": [
    "# Overwrite totalt only with the columns we need for general\n",
    "total_time = total_time[['employeeid','mean_time']]  \n"
   ]
  },
  {
   "cell_type": "code",
   "execution_count": null,
   "id": "6b38a365",
   "metadata": {},
   "outputs": [],
   "source": [
    "general = pd.merge(general, total_time, on = 'employeeid', how = 'inner')"
   ]
  },
  {
   "cell_type": "code",
   "execution_count": null,
   "id": "790baa7d",
   "metadata": {},
   "outputs": [],
   "source": [
    "general"
   ]
  },
  {
   "cell_type": "code",
   "execution_count": null,
   "id": "39dba398",
   "metadata": {},
   "outputs": [],
   "source": [
    "general.to_csv('general_hr_data.csv')"
   ]
  },
  {
   "cell_type": "code",
   "execution_count": null,
   "id": "f9c1cbb8",
   "metadata": {},
   "outputs": [],
   "source": []
  }
 ],
 "metadata": {
  "kernelspec": {
   "display_name": "Python 3 (ipykernel)",
   "language": "python",
   "name": "python3"
  },
  "language_info": {
   "codemirror_mode": {
    "name": "ipython",
    "version": 3
   },
   "file_extension": ".py",
   "mimetype": "text/x-python",
   "name": "python",
   "nbconvert_exporter": "python",
   "pygments_lexer": "ipython3",
   "version": "3.9.7"
  },
  "toc": {
   "base_numbering": 1,
   "nav_menu": {},
   "number_sections": true,
   "sideBar": true,
   "skip_h1_title": false,
   "title_cell": "Table of Contents",
   "title_sidebar": "Contents",
   "toc_cell": false,
   "toc_position": {},
   "toc_section_display": true,
   "toc_window_display": true
  }
 },
 "nbformat": 4,
 "nbformat_minor": 5
}
